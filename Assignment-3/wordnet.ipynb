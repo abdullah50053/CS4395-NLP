{
 "cells": [
  {
   "cell_type": "markdown",
   "id": "2b5f03dc-fb09-4b3d-ba9b-b46487af46ce",
   "metadata": {},
   "source": [
    "# Assignment 3: Wordnet\n",
    " Abdullah Hasani - AHH190004"
   ]
  },
  {
   "cell_type": "markdown",
   "id": "7e6a29c4-9a3a-4bf4-948c-4c4a08a55003",
   "metadata": {},
   "source": [
    "### About Wordnet\n",
    "Wordnet is an English language database that is used in natural language processing and is provided through the NLTK library. Wordnet's database contains relationships between words, such as a word's synonyms, antonyms, hypernyms and hyponyms, meronyms, and holonyms. It also has methods that can be applied to synsets, such as getting the gloss (definition) of a word, getting use case examples, and more."
   ]
  },
  {
   "cell_type": "code",
   "execution_count": 8,
   "id": "bd9b4e3b-3e20-4ff1-be84-a6bed1126573",
   "metadata": {},
   "outputs": [
    {
     "name": "stdout",
     "output_type": "stream",
     "text": [
      "All synsets for card:\n",
      "Synset('card.n.01')\n",
      "Synset('card.n.02')\n",
      "Synset('card.n.03')\n",
      "Synset('card.n.04')\n",
      "Synset('wag.n.01')\n",
      "Synset('poster.n.01')\n",
      "Synset('calling_card.n.02')\n",
      "Synset('card.n.08')\n",
      "Synset('menu.n.01')\n",
      "Synset('batting_order.n.01')\n",
      "Synset('circuit_board.n.01')\n",
      "Synset('tease.v.07')\n",
      "Synset('card.v.02')\n",
      "\n",
      "Selected: Synset('menu.n.01')\n",
      "Definition: a list of dishes available at a restaurant\n",
      "Usage examples: ['the menu was in French']\n",
      "Lemmas: ['menu', 'bill_of_fare', 'card', 'carte_du_jour', 'carte']\n",
      "\n",
      "Traversing up the hierarchy:\n",
      "Synset('bill.n.07')\n",
      "Synset('list.n.01')\n",
      "Synset('database.n.01')\n",
      "Synset('information.n.01')\n",
      "Synset('message.n.02')\n",
      "Synset('communication.n.02')\n",
      "Synset('abstraction.n.06')\n",
      "Synset('entity.n.01')\n",
      "\n",
      "Hypernyms: [Synset('bill.n.07')]\n",
      "\n",
      "Hyponyms: [Synset('a_la_carte.n.01'), Synset('prix_fixe.n.01'), Synset('table_d'hote.n.01')]\n",
      "\n",
      "Meronyms: []\n",
      "\n",
      "Holonyms: []\n",
      "\n",
      "Antonyms: []\n"
     ]
    }
   ],
   "source": [
    "from nltk.corpus import wordnet as wn\n",
    "\n",
    "# Select a noun\n",
    "noun = 'card'\n",
    "\n",
    "# Output all synsets\n",
    "synsets = wn.synsets(noun)\n",
    "print(f\"All synsets for {noun}:\")\n",
    "for synset in synsets:\n",
    "    print(synset)\n",
    "\n",
    "# Select a synset\n",
    "selected = synsets[0]\n",
    "print(f\"\\nSelected: {selected}\")\n",
    "\n",
    "# Synset definition\n",
    "print(f\"Definition: {selected.definition()}\")\n",
    "\n",
    "# Synset usage examples \n",
    "print(f\"Usage examples: {selected.examples()}\")\n",
    "\n",
    "# Synset lemmas\n",
    "print(f\"Lemmas: {[lemma.name() for lemma in selected.lemmas()]}\")\n",
    "\n",
    "# Traversal over WordNet heirarchy\n",
    "hypernyms = lambda s: s.hypernyms()\n",
    "hyper_list = list(selected.closure(hypernyms))\n",
    "\n",
    "# Outputting the synsets\n",
    "print(\"\\nTraversing up the hierarchy:\")\n",
    "for word in hyper_list:\n",
    "    print(word)\n",
    "    \n",
    "# Outputting the hypernyms\n",
    "print(f'\\nHypernyms: {selected.hypernyms()}')\n",
    "\n",
    "# Outputting the hyponyms\n",
    "print(f'\\nHyponyms: {selected.hyponyms()}')\n",
    "\n",
    "# Outputting the meronyms\n",
    "print(f'\\nMeronyms: {selected.part_meronyms()}')\n",
    "\n",
    "# Outputting the holonyms\n",
    "print(f'\\nHolonyms: {selected.part_holonyms()}')\n",
    "\n",
    "# Outputting the antonyms\n",
    "print(f'\\nAntonyms: {selected.lemmas()[0].antonyms()}')"
   ]
  },
  {
   "cell_type": "markdown",
   "id": "3814f13b-06c2-43fc-81fe-96c6de32ed72",
   "metadata": {},
   "source": [
    "### WordNet Organization for Nouns\n",
    "\n",
    "WordNet is organizes nouns into \"synsets\", or sets of synonyms, which describes a word and the words that are closely related in definition to it. It then also has antonym relationships with other words to represent the opposite of a word, if it exists. It also has part-whole relationships, known as meronyms and holonyms, where a meronym is a part of of another thing and a holonym is the thing a word is a part of. It also has hypernyms and hyponyms, where a hypernym is a higher version of the word and a hyponym is a lower version of the word. These organized relationships exist to allow for ease of use and access when being used in the context of natural language processing."
   ]
  },
  {
   "cell_type": "code",
   "execution_count": 11,
   "id": "d4f882b1-5bca-4e42-939a-0915f307d6ae",
   "metadata": {},
   "outputs": [
    {
     "name": "stdout",
     "output_type": "stream",
     "text": [
      "All synsets for walk:\n",
      "Synset('walk.v.01')\n",
      "Synset('walk.v.02')\n",
      "Synset('walk.v.03')\n",
      "Synset('walk.v.04')\n",
      "Synset('walk.v.05')\n",
      "Synset('walk.v.06')\n",
      "Synset('walk.v.07')\n",
      "Synset('walk.v.08')\n",
      "Synset('walk.v.09')\n",
      "Synset('walk.v.10')\n",
      "\n",
      "Selected: Synset('walk.v.01')\n",
      "Definition: use one's feet to advance; advance by steps\n",
      "Usage examples: [\"Walk, don't run!\", 'We walked instead of driving', 'She walks with a slight limp', 'The patient cannot walk yet', 'Walk over to the cabinet']\n",
      "Lemmas: ['walk']\n",
      "\n",
      "Traversing up the hierarchy:\n",
      "Synset('travel.v.01')\n"
     ]
    }
   ],
   "source": [
    "# Select a verb\n",
    "verb = 'walk'\n",
    "\n",
    "# Output all synsets\n",
    "synsets = wn.synsets(verb, pos=wn.VERB)\n",
    "print(f\"All synsets for {verb}:\")\n",
    "for synset in synsets:\n",
    "    print(synset)\n",
    "\n",
    "# Select a synset\n",
    "selected = synsets[0]\n",
    "print(f\"\\nSelected: {selected}\")\n",
    "\n",
    "# Synset definition\n",
    "print(f\"Definition: {selected.definition()}\")\n",
    "\n",
    "# Synset usage examples \n",
    "print(f\"Usage examples: {selected.examples()}\")\n",
    "\n",
    "# Synset lemmas\n",
    "print(f\"Lemmas: {[lemma.name() for lemma in selected.lemmas()]}\")\n",
    "\n",
    "# Traversal over WordNet heirarchy\n",
    "hypernyms = lambda s: s.hypernyms()\n",
    "hyper_list = list(selected.closure(hypernyms))\n",
    "\n",
    "# Outputting the synsets\n",
    "print(\"\\nTraversing up the hierarchy:\")\n",
    "for word in hyper_list:\n",
    "    print(word)"
   ]
  },
  {
   "cell_type": "markdown",
   "id": "b0ade57b-6251-4e47-99cc-536895065001",
   "metadata": {},
   "source": [
    "### WordNet Organization for Verbs\n"
   ]
  },
  {
   "cell_type": "code",
   "execution_count": null,
   "id": "cbe70f6e-d0ad-4508-a809-cb7516ea1206",
   "metadata": {},
   "outputs": [],
   "source": []
  }
 ],
 "metadata": {
  "kernelspec": {
   "display_name": "Python 3 (ipykernel)",
   "language": "python",
   "name": "python3"
  },
  "language_info": {
   "codemirror_mode": {
    "name": "ipython",
    "version": 3
   },
   "file_extension": ".py",
   "mimetype": "text/x-python",
   "name": "python",
   "nbconvert_exporter": "python",
   "pygments_lexer": "ipython3",
   "version": "3.9.7"
  }
 },
 "nbformat": 4,
 "nbformat_minor": 5
}
