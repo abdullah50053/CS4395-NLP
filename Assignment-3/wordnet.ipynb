{
 "cells": [
  {
   "cell_type": "markdown",
   "id": "2b5f03dc-fb09-4b3d-ba9b-b46487af46ce",
   "metadata": {},
   "source": [
    "# Assignment 3: Wordnet\n",
    "### Abdullah Hasani\n",
    "### AHH190004"
   ]
  },
  {
   "cell_type": "code",
   "execution_count": null,
   "id": "ecafdb51-c689-4701-8b1f-fe5d481a4164",
   "metadata": {},
   "outputs": [],
   "source": []
  }
 ],
 "metadata": {
  "kernelspec": {
   "display_name": "Python 3 (ipykernel)",
   "language": "python",
   "name": "python3"
  },
  "language_info": {
   "codemirror_mode": {
    "name": "ipython",
    "version": 3
   },
   "file_extension": ".py",
   "mimetype": "text/x-python",
   "name": "python",
   "nbconvert_exporter": "python",
   "pygments_lexer": "ipython3",
   "version": "3.9.7"
  }
 },
 "nbformat": 4,
 "nbformat_minor": 5
}
